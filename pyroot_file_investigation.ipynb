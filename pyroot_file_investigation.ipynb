{
 "cells": [
  {
   "cell_type": "code",
   "execution_count": 1,
   "metadata": {},
   "outputs": [
    {
     "name": "stdout",
     "output_type": "stream",
     "text": [
      "Welcome to JupyROOT 6.26/10\n",
      "here1\n",
      "here\n"
     ]
    },
    {
     "name": "stderr",
     "output_type": "stream",
     "text": [
      "Warning in <TClass::Init>: no dictionary for class art::History is available\n",
      "Warning in <TClass::Init>: no dictionary for class art::Hash<2> is available\n",
      "Warning in <TClass::Init>: no dictionary for class art::EventAuxiliary is available\n",
      "Warning in <TClass::Init>: no dictionary for class art::EventID is available\n",
      "Warning in <TClass::Init>: no dictionary for class art::SubRunID is available\n",
      "Warning in <TClass::Init>: no dictionary for class art::RunID is available\n",
      "Warning in <TClass::Init>: no dictionary for class art::Timestamp is available\n",
      "Warning in <TClass::Init>: no dictionary for class art::SubRunAuxiliary is available\n",
      "Warning in <TClass::Init>: no dictionary for class art::RunAuxiliary is available\n",
      "Warning in <TClass::Init>: no dictionary for class art::ResultsAuxiliary is available\n",
      "Warning in <TClass::Init>: no dictionary for class art::Wrapper<art::Assns<simb::MCTruth,bsim::Dk2Nu,void> > is available\n",
      "Warning in <TClass::Init>: no dictionary for class art::EDProduct is available\n",
      "Warning in <TClass::Init>: no dictionary for class art::Assns<simb::MCTruth,bsim::Dk2Nu,void> is available\n",
      "Warning in <TClass::Init>: no dictionary for class art::detail::AssnsBase is available\n",
      "Warning in <TClass::Init>: no dictionary for class art::Wrapper<art::Assns<simb::MCTruth,bsim::NuChoice,void> > is available\n",
      "Warning in <TClass::Init>: no dictionary for class art::Assns<simb::MCTruth,bsim::NuChoice,void> is available\n",
      "Warning in <TClass::Init>: no dictionary for class art::Wrapper<art::Assns<simb::MCTruth,simb::GTruth,void> > is available\n",
      "Warning in <TClass::Init>: no dictionary for class art::Assns<simb::MCTruth,simb::GTruth,void> is available\n",
      "Warning in <TClass::Init>: no dictionary for class art::Wrapper<art::Assns<simb::MCTruth,simb::MCFlux,void> > is available\n",
      "Warning in <TClass::Init>: no dictionary for class art::Assns<simb::MCTruth,simb::MCFlux,void> is available\n",
      "Warning in <TClass::Init>: no dictionary for class art::Wrapper<art::TriggerResults> is available\n",
      "Warning in <TClass::Init>: no dictionary for class art::TriggerResults is available\n",
      "Warning in <TClass::Init>: no dictionary for class art::HLTGlobalStatus is available\n",
      "Warning in <TClass::Init>: no dictionary for class fhicl::ParameterSetID is available\n",
      "Warning in <TClass::Init>: no dictionary for class art::Wrapper<vector<art::RNGsnapshot> > is available\n",
      "Warning in <TClass::Init>: no dictionary for class art::RNGsnapshot is available\n",
      "Warning in <TClass::Init>: no dictionary for class art::Wrapper<vector<bsim::Dk2Nu> > is available\n",
      "Warning in <TClass::Init>: no dictionary for class bsim::Dk2Nu is available\n",
      "Warning in <TClass::Init>: no dictionary for class bsim::Decay is available\n",
      "Warning in <TClass::Init>: no dictionary for class bsim::TgtExit is available\n",
      "Warning in <TClass::Init>: no dictionary for class art::Wrapper<vector<bsim::NuChoice> > is available\n",
      "Warning in <TClass::Init>: no dictionary for class bsim::NuChoice is available\n",
      "Warning in <TClass::Init>: no dictionary for class art::Wrapper<vector<sim::BeamGateInfo> > is available\n",
      "Warning in <TClass::Init>: no dictionary for class sim::BeamGateInfo is available\n",
      "Warning in <TClass::Init>: no dictionary for class art::Wrapper<vector<simb::GTruth> > is available\n",
      "Warning in <TClass::Init>: no dictionary for class simb::GTruth is available\n",
      "Warning in <TClass::Init>: no dictionary for class art::Wrapper<vector<simb::MCFlux> > is available\n",
      "Warning in <TClass::Init>: no dictionary for class simb::MCFlux is available\n",
      "Warning in <TClass::Init>: no dictionary for class art::Wrapper<vector<simb::MCTruth> > is available\n",
      "Warning in <TClass::Init>: no dictionary for class simb::MCTruth is available\n",
      "Warning in <TClass::Init>: no dictionary for class simb::MCNeutrino is available\n",
      "Warning in <TClass::Init>: no dictionary for class simb::MCParticle is available\n",
      "Warning in <TClass::Init>: no dictionary for class simb::MCTrajectory is available\n",
      "Warning in <TClass::Init>: no dictionary for class art::Wrapper<sumdata::POTSummary> is available\n",
      "Warning in <TClass::Init>: no dictionary for class sumdata::POTSummary is available\n",
      "Warning in <TClass::Init>: no dictionary for class art::Wrapper<sumdata::RunData> is available\n",
      "Warning in <TClass::Init>: no dictionary for class sumdata::RunData is available\n",
      "Warning in <TClass::Init>: no dictionary for class art::ProductProvenance is available\n",
      "Warning in <TClass::Init>: no dictionary for class art::ProductID is available\n",
      "Warning in <TClass::Init>: no dictionary for class art::Hash<5> is available\n",
      "Warning in <TClass::Init>: no dictionary for class art::RefCore is available\n",
      "Warning in <TClass::Init>: no dictionary for class art::RefCore::RefCoreTransients is available\n",
      "Warning in <TClass::Init>: no dictionary for class art::HLTPathStatus is available\n",
      "Warning in <TClass::Init>: no dictionary for class art::FileFormatVersion is available\n",
      "Warning in <TClass::Init>: no dictionary for class art::FileIndex::Element is available\n",
      "Warning in <TClass::Init>: no dictionary for class art::ProcessHistory is available\n",
      "Warning in <TClass::Init>: no dictionary for class art::ProcessConfiguration is available\n",
      "Warning in <TClass::Init>: no dictionary for class art::ProductRegistry is available\n",
      "Warning in <TClass::Init>: no dictionary for class art::BranchKey is available\n",
      "Warning in <TClass::Init>: no dictionary for class art::BranchDescription is available\n",
      "Warning in <TClass::Init>: no dictionary for class art::Hash<3> is available\n",
      "Warning in <TClass::Init>: no dictionary for class art::Parentage is available\n",
      "Warning in <TClass::Init>: no dictionary for class art::BranchChildren is available\n",
      "Warning in <TClass::Init>: no dictionary for class art::Transient<art::ProcessHistory::Transients> is available\n",
      "Warning in <TClass::Init>: no dictionary for class art::Transient<art::BranchDescription::Transients> is available\n",
      "Warning in <TClass::Init>: no dictionary for class art::Transient<art::ProductProvenance::Transients> is available\n",
      "Warning in <TClass::Init>: no dictionary for class art::Wrapper<art::Assns<simb::MCTruth,simb::MCParticle,sim::GeneratedParticleInfo> > is available\n",
      "Warning in <TClass::Init>: no dictionary for class art::Assns<simb::MCTruth,simb::MCParticle,sim::GeneratedParticleInfo> is available\n",
      "Warning in <TClass::Init>: no dictionary for class art::Assns<simb::MCTruth,simb::MCParticle,void> is available\n",
      "Warning in <TClass::Init>: no dictionary for class art::Wrapper<vector<sim::AuxDetSimChannel> > is available\n",
      "Warning in <TClass::Init>: no dictionary for class sim::AuxDetSimChannel is available\n",
      "Warning in <TClass::Init>: no dictionary for class art::Wrapper<vector<sim::MCShower> > is available\n",
      "Warning in <TClass::Init>: no dictionary for class sim::MCShower is available\n",
      "Warning in <TClass::Init>: no dictionary for class sim::MCStep is available\n",
      "Warning in <TClass::Init>: no dictionary for class art::Wrapper<vector<sim::MCTrack> > is available\n",
      "Warning in <TClass::Init>: no dictionary for class sim::MCTrack is available\n",
      "Warning in <TClass::Init>: no dictionary for class art::Wrapper<vector<sim::SimChannel> > is available\n",
      "Warning in <TClass::Init>: no dictionary for class sim::SimChannel is available\n",
      "Warning in <TClass::Init>: no dictionary for class art::Wrapper<vector<sim::SimEnergyDeposit> > is available\n",
      "Warning in <TClass::Init>: no dictionary for class sim::SimEnergyDeposit is available\n",
      "Warning in <TClass::Init>: no dictionary for class art::Wrapper<vector<sim::SimPhotons> > is available\n",
      "Warning in <TClass::Init>: no dictionary for class sim::SimPhotons is available\n",
      "Warning in <TClass::Init>: no dictionary for class art::Wrapper<vector<simb::MCParticle> > is available\n",
      "Warning in <TClass::Init>: no dictionary for class pair<art::RefCore,unsigned long> is available\n",
      "Warning in <TClass::Init>: no dictionary for class sim::GeneratedParticleInfo is available\n",
      "Warning in <TClass::Init>: no dictionary for class sim::AuxDetIDE is available\n",
      "Warning in <TClass::Init>: no dictionary for class pair<unsigned short,vector<sim::IDE> > is available\n",
      "Warning in <TClass::Init>: no dictionary for class sim::IDE is available\n",
      "Warning in <TClass::Init>: no dictionary for class sim::OnePhoton is available\n"
     ]
    }
   ],
   "source": [
    "import ROOT\n",
    "\n",
    "# Open the ROOT file\n",
    "file = ROOT.TFile.Open(\"input_files/delete_one_gamma_files/prodgenie_bnb_nu_filtered_1g_uboone_20241219T202039_gen_20241219T202809_g4.root\")\n",
    "\n",
    "tree = file.Get(\"simb::MCParticles_largeant__G4EDep.obj.ftrajectory.ftrajectory\")\n"
   ]
  },
  {
   "cell_type": "code",
   "execution_count": 4,
   "metadata": {},
   "outputs": [
    {
     "name": "stdout",
     "output_type": "stream",
     "text": [
      "<class cppyy.gbl.TObject at 0x3088827b0>\n"
     ]
    }
   ],
   "source": [
    "print(type(tree))\n"
   ]
  },
  {
   "cell_type": "code",
   "execution_count": 3,
   "metadata": {},
   "outputs": [
    {
     "ename": "AttributeError",
     "evalue": "'TObject' object has no attribute 'GetEntry'",
     "output_type": "error",
     "traceback": [
      "\u001b[0;31m---------------------------------------------------------------------------\u001b[0m",
      "\u001b[0;31mAttributeError\u001b[0m                            Traceback (most recent call last)",
      "Cell \u001b[0;32mIn[3], line 4\u001b[0m\n\u001b[1;32m      1\u001b[0m \u001b[38;5;66;03m# Assuming 'tree' is a ROOT TTree\u001b[39;00m\n\u001b[1;32m      2\u001b[0m \u001b[38;5;66;03m# Loop through the first two entries\u001b[39;00m\n\u001b[1;32m      3\u001b[0m \u001b[38;5;28;01mfor\u001b[39;00m i \u001b[38;5;129;01min\u001b[39;00m \u001b[38;5;28mrange\u001b[39m(\u001b[38;5;241m2\u001b[39m):  \u001b[38;5;66;03m# Loop over indices instead\u001b[39;00m\n\u001b[0;32m----> 4\u001b[0m     \u001b[43mtree\u001b[49m\u001b[38;5;241;43m.\u001b[39;49m\u001b[43mGetEntry\u001b[49m(i)  \u001b[38;5;66;03m# Access the i-th entry\u001b[39;00m\n\u001b[1;32m      6\u001b[0m     \u001b[38;5;28mprint\u001b[39m(\u001b[38;5;124m\"\u001b[39m\u001b[38;5;124mnew event\u001b[39m\u001b[38;5;124m\"\u001b[39m)\n\u001b[1;32m      8\u001b[0m     \u001b[38;5;66;03m# Retrieve the branch attribute and iterate over it\u001b[39;00m\n",
      "\u001b[0;31mAttributeError\u001b[0m: 'TObject' object has no attribute 'GetEntry'"
     ]
    }
   ],
   "source": [
    "# Assuming 'tree' is a ROOT TTree\n",
    "# Loop through the first two entries\n",
    "for i in range(2):  # Loop over indices instead\n",
    "    tree.GetEntry(i)  # Access the i-th entry\n",
    "    \n",
    "    print(\"new event\")\n",
    "    \n",
    "    # Retrieve the branch attribute and iterate over it\n",
    "    try:\n",
    "        branch = getattr(tree, \"simb::MCParticles_largeant__G4EDep.obj.ftrajectory.ftrajectory\")\n",
    "        \n",
    "        # Loop through the branch objects and print them\n",
    "        for obj in branch:\n",
    "            print(obj)\n",
    "    except AttributeError as e:\n",
    "        print(f\"Attribute error: {e}\")"
   ]
  },
  {
   "cell_type": "code",
   "execution_count": null,
   "metadata": {},
   "outputs": [],
   "source": []
  }
 ],
 "metadata": {
  "kernelspec": {
   "display_name": "pyroot",
   "language": "python",
   "name": "python3"
  },
  "language_info": {
   "codemirror_mode": {
    "name": "ipython",
    "version": 3
   },
   "file_extension": ".py",
   "mimetype": "text/x-python",
   "name": "python",
   "nbconvert_exporter": "python",
   "pygments_lexer": "ipython3",
   "version": "3.9.21"
  }
 },
 "nbformat": 4,
 "nbformat_minor": 2
}
