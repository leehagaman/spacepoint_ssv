{
 "cells": [
  {
   "cell_type": "code",
   "execution_count": 1,
   "metadata": {},
   "outputs": [],
   "source": [
    "import uproot\n",
    "import numpy as np\n",
    "import matplotlib.pyplot as plt\n",
    "import pandas as pd\n",
    "import pickle\n",
    "\n",
    "import os\n",
    "import sys\n",
    "sys.path.append(os.path.abspath(\"..\"))\n"
   ]
  },
  {
   "cell_type": "code",
   "execution_count": 2,
   "metadata": {},
   "outputs": [],
   "source": [
    "#with open(\"../intermediate_files/test_charge.pkl\", \"rb\") as f:\n",
    "with open(\"../intermediate_files/test_gamma1_primary.pkl\", \"rb\") as f:\n",
    "    outputs = pickle.load(f)\n",
    "\n",
    "true_gamma_info_df = outputs[0]\n",
    "downsampled_Tcluster_spacepoints_with_charge = outputs[1]\n",
    "real_nu_reco_nu_downsampled_spacepoints = outputs[2]\n",
    "real_nu_reco_cosmic_downsampled_spacepoints = outputs[3]\n",
    "real_cosmic_reco_nu_downsampled_spacepoints = outputs[4]\n",
    "real_cosmic_reco_cosmic_downsampled_spacepoints = outputs[5]\n",
    "real_gamma1_downsampled_spacepoints = outputs[6]\n",
    "real_gamma2_downsampled_spacepoints = outputs[7]\n",
    "real_other_particles_downsampled_spacepoints = outputs[8]\n",
    "real_cosmic_downsampled_spacepoints = outputs[9]\n"
   ]
  },
  {
   "cell_type": "code",
   "execution_count": 3,
   "metadata": {},
   "outputs": [],
   "source": [
    "reco_nu_vtx = []\n",
    "true_nu_vtx = []\n",
    "true_gamma1_pairconvert_vtx = []\n",
    "true_gamma2_pairconvert_vtx = []\n",
    "\n",
    "for event_i in range(len(true_gamma_info_df)):\n",
    "\n",
    "    reco_nu_vtx.append([true_gamma_info_df[\"reco_nu_vtx_x\"][event_i], true_gamma_info_df[\"reco_nu_vtx_y\"][event_i], true_gamma_info_df[\"reco_nu_vtx_z\"][event_i]])\n",
    "    true_nu_vtx.append([true_gamma_info_df[\"true_nu_vtx_x\"][event_i], true_gamma_info_df[\"true_nu_vtx_y\"][event_i], true_gamma_info_df[\"true_nu_vtx_z\"][event_i]])\n",
    "   \n",
    "    if len(true_gamma_info_df[\"true_gamma_pairconversion_xs\"][event_i]) > 0:\n",
    "        true_gamma1_pairconvert_vtx.append([true_gamma_info_df[\"true_gamma_pairconversion_xs\"][event_i][0], true_gamma_info_df[\"true_gamma_pairconversion_ys\"][event_i][0], true_gamma_info_df[\"true_gamma_pairconversion_zs\"][event_i][0]])\n",
    "    else:\n",
    "        true_gamma1_pairconvert_vtx.append(None)\n",
    "    if len(true_gamma_info_df[\"true_gamma_pairconversion_xs\"][event_i]) > 1:\n",
    "        true_gamma2_pairconvert_vtx.append([true_gamma_info_df[\"true_gamma_pairconversion_xs\"][event_i][1], true_gamma_info_df[\"true_gamma_pairconversion_ys\"][event_i][1], true_gamma_info_df[\"true_gamma_pairconversion_zs\"][event_i][1]])\n",
    "    else:\n",
    "        true_gamma2_pairconvert_vtx.append(None)\n",
    "\n",
    "# swap the gamma1 and gamma2 pairconvert vtxs if the second one is higher energy\n",
    "for event_i in range(len(true_gamma1_pairconvert_vtx)):\n",
    "    if true_gamma2_pairconvert_vtx[event_i] is not None and true_gamma1_pairconvert_vtx[event_i] is not None:\n",
    "        if true_gamma_info_df[\"true_gamma_energies\"][event_i][1] > true_gamma_info_df[\"true_gamma_energies\"][event_i][0]:\n",
    "            true_gamma1_pairconvert_vtx[event_i], true_gamma2_pairconvert_vtx[event_i] = true_gamma2_pairconvert_vtx[event_i], true_gamma1_pairconvert_vtx[event_i]\n",
    "\n",
    "# if there is only one pairconvert vtx, make it gamma1\n",
    "for event_i in range(len(true_gamma1_pairconvert_vtx)):\n",
    "    if true_gamma1_pairconvert_vtx[event_i] is None and true_gamma2_pairconvert_vtx[event_i] is not None:\n",
    "        true_gamma1_pairconvert_vtx[event_i] = true_gamma2_pairconvert_vtx[event_i]\n",
    "        true_gamma2_pairconvert_vtx[event_i] = None\n",
    "\n",
    "if len(true_gamma1_pairconvert_vtx) == 0:\n",
    "    true_gamma1_pairconvert_vtx = None\n",
    "if len(true_gamma2_pairconvert_vtx) == 0:\n",
    "    true_gamma2_pairconvert_vtx = None\n"
   ]
  },
  {
   "cell_type": "code",
   "execution_count": 4,
   "metadata": {},
   "outputs": [
    {
     "name": "stdout",
     "output_type": "stream",
     "text": [
      "0, 2, 3, 4, 5, 6, 7, 10, 15, 16, 17, 18, 19, 20, 22, 23, 24, 25, 28, 29, 30, 31, 33, 34, 35, 36, 37, 39, 40, 41, 42, 44, 45, 46, 47, 48, "
     ]
    }
   ],
   "source": [
    "for i in range(50):\n",
    "    if reco_nu_vtx[i][0] != -1:\n",
    "        print(i, end=\", \")"
   ]
  },
  {
   "cell_type": "code",
   "execution_count": 10,
   "metadata": {},
   "outputs": [],
   "source": [
    "from helpers.plotting_3d import plot_event\n",
    "\n",
    "# event that we failed before\n",
    "event_index = 61\n",
    "\n",
    "#event_index = 2\n",
    "\n",
    "#event_index = 7 # this is weird now\n",
    "\n",
    "#event_index = 10084\n",
    "\n",
    "event_index = 17\n",
    "\n",
    "points_dic = {}\n",
    "\n",
    "if downsampled_Tcluster_spacepoints_with_charge[event_index] is not None and len(downsampled_Tcluster_spacepoints_with_charge[event_index]) > 0:\n",
    "    points_dic[\"Tcluster_spacepoints_with_charge\"] = (downsampled_Tcluster_spacepoints_with_charge[event_index][:, :3], downsampled_Tcluster_spacepoints_with_charge[event_index][:, 3], \"jet\", 2, True)\n",
    "\n",
    "if real_gamma1_downsampled_spacepoints[event_index] is not None and len(real_gamma1_downsampled_spacepoints[event_index]) > 0:\n",
    "    points_dic[\"real_gamma1_downsampled_spacepoints\"] = (real_gamma1_downsampled_spacepoints[event_index], \"green\", None, 2, True)\n",
    "\n",
    "if real_gamma2_downsampled_spacepoints[event_index] is not None and len(real_gamma2_downsampled_spacepoints[event_index]) > 0:\n",
    "    points_dic[\"real_gamma2_downsampled_spacepoints\"] = (real_gamma2_downsampled_spacepoints[event_index], \"lightgreen\", None, 2, True)\n",
    "\n",
    "if real_other_particles_downsampled_spacepoints[event_index] is not None and len(real_other_particles_downsampled_spacepoints[event_index]) > 0:\n",
    "    points_dic[\"real_other_particles_downsampled_spacepoints\"] = (real_other_particles_downsampled_spacepoints[event_index], \"brown\", None, 2, True)\n",
    "\n",
    "if real_cosmic_downsampled_spacepoints[event_index] is not None and len(real_cosmic_downsampled_spacepoints[event_index]) > 0:\n",
    "    points_dic[\"real_cosmic_downsampled_spacepoints\"] = (real_cosmic_downsampled_spacepoints[event_index], \"blue\", None, 2, True)\n",
    "\n",
    "if reco_nu_vtx[event_index] is not None and len(reco_nu_vtx[event_index]) > 0:\n",
    "    points_dic[\"reco_nu_vtx\"] = (reco_nu_vtx[event_index], \"orange\", None, 10, \"legendonly\")\n",
    "\n",
    "if true_nu_vtx[event_index] is not None and len(true_nu_vtx[event_index]) > 0:\n",
    "    points_dic[\"true_nu_vtx\"] = (true_nu_vtx[event_index], \"red\", None, 10, \"legendonly\")\n",
    "\n",
    "if true_gamma1_pairconvert_vtx[event_index] is not None and len(true_gamma1_pairconvert_vtx[event_index]) > 0:\n",
    "    points_dic[\"true_gamma1_pairconvert_vtx\"] = (true_gamma1_pairconvert_vtx[event_index], \"green\", None, 10, True)\n",
    "\n",
    "if true_gamma2_pairconvert_vtx[event_index] is not None and len(true_gamma2_pairconvert_vtx[event_index]) > 0:\n",
    "    points_dic[\"true_gamma2_pairconvert_vtx\"] = (true_gamma2_pairconvert_vtx[event_index], \"lightgreen\", None, 10, True)\n",
    "\n",
    "plot_event(event_index, points_dic)\n"
   ]
  },
  {
   "cell_type": "code",
   "execution_count": null,
   "metadata": {},
   "outputs": [],
   "source": []
  }
 ],
 "metadata": {
  "kernelspec": {
   "display_name": "venv",
   "language": "python",
   "name": "python3"
  },
  "language_info": {
   "codemirror_mode": {
    "name": "ipython",
    "version": 3
   },
   "file_extension": ".py",
   "mimetype": "text/x-python",
   "name": "python",
   "nbconvert_exporter": "python",
   "pygments_lexer": "ipython3",
   "version": "3.12.3"
  }
 },
 "nbformat": 4,
 "nbformat_minor": 2
}
