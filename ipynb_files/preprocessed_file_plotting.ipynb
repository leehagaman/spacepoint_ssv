{
 "cells": [
  {
   "cell_type": "code",
   "execution_count": 1,
   "metadata": {},
   "outputs": [],
   "source": [
    "import uproot\n",
    "import numpy as np\n",
    "import matplotlib.pyplot as plt\n",
    "import pandas as pd\n",
    "import pickle\n",
    "\n",
    "import os\n",
    "import sys\n",
    "sys.path.append(os.path.abspath(\"..\"))\n"
   ]
  },
  {
   "cell_type": "code",
   "execution_count": 2,
   "metadata": {},
   "outputs": [],
   "source": [
    "with open(\"../intermediate_files/test_charge.pkl\", \"rb\") as f:\n",
    "    outputs = pickle.load(f)\n",
    "\n",
    "true_gamma_info_df = outputs[0]\n",
    "downsampled_Tcluster_spacepoints_with_charge = outputs[1]\n",
    "real_nu_reco_nu_downsampled_spacepoints = outputs[2]\n",
    "real_nu_reco_cosmic_downsampled_spacepoints = outputs[3]\n",
    "real_cosmic_reco_nu_downsampled_spacepoints = outputs[4]\n",
    "real_cosmic_reco_cosmic_downsampled_spacepoints = outputs[5]\n",
    "real_gamma1_downsampled_spacepoints = outputs[6]\n",
    "real_gamma2_downsampled_spacepoints = outputs[7]\n",
    "real_other_particles_downsampled_spacepoints = outputs[8]\n",
    "real_cosmic_downsampled_spacepoints = outputs[9]\n"
   ]
  },
  {
   "cell_type": "code",
   "execution_count": 3,
   "metadata": {},
   "outputs": [
    {
     "name": "stdout",
     "output_type": "stream",
     "text": [
      "2030\n",
      "654\n",
      "3\n",
      "132\n",
      "1241\n",
      "115\n",
      "0\n",
      "544\n",
      "1371\n"
     ]
    }
   ],
   "source": [
    "event_index = 0\n",
    "\n",
    "for i in range(len(outputs)):\n",
    "    if i == 0: # true gamma info df\n",
    "        continue\n",
    "    print(len(outputs[i][event_index]))"
   ]
  },
  {
   "cell_type": "code",
   "execution_count": 4,
   "metadata": {},
   "outputs": [],
   "source": [
    "reco_nu_vtx = []\n",
    "true_nu_vtx = []\n",
    "true_gamma1_pairconvert_vtx = []\n",
    "true_gamma2_pairconvert_vtx = []\n",
    "\n",
    "for event_i in range(len(true_gamma_info_df)):\n",
    "\n",
    "    reco_nu_vtx.append([true_gamma_info_df[\"reco_nu_vtx_x\"][event_i], true_gamma_info_df[\"reco_nu_vtx_y\"][event_i], true_gamma_info_df[\"reco_nu_vtx_z\"][event_i]])\n",
    "    true_nu_vtx.append([true_gamma_info_df[\"true_nu_vtx_x\"][event_i], true_gamma_info_df[\"true_nu_vtx_y\"][event_i], true_gamma_info_df[\"true_nu_vtx_z\"][event_i]])\n",
    "   \n",
    "    if len(true_gamma_info_df[\"true_gamma_pairconversion_xs\"][event_i]) > 0:\n",
    "        true_gamma1_pairconvert_vtx.append([true_gamma_info_df[\"true_gamma_pairconversion_xs\"][event_i][0], true_gamma_info_df[\"true_gamma_pairconversion_ys\"][event_i][0], true_gamma_info_df[\"true_gamma_pairconversion_zs\"][event_i][0]])\n",
    "    else:\n",
    "        true_gamma1_pairconvert_vtx.append(None)\n",
    "    if len(true_gamma_info_df[\"true_gamma_pairconversion_xs\"][event_i]) > 1:\n",
    "        true_gamma2_pairconvert_vtx.append([true_gamma_info_df[\"true_gamma_pairconversion_xs\"][event_i][1], true_gamma_info_df[\"true_gamma_pairconversion_ys\"][event_i][1], true_gamma_info_df[\"true_gamma_pairconversion_zs\"][event_i][1]])\n",
    "    else:\n",
    "        true_gamma2_pairconvert_vtx.append(None)\n",
    "\n",
    "\n",
    "if len(true_gamma1_pairconvert_vtx) == 0:\n",
    "    true_gamma1_pairconvert_vtx = None\n",
    "if len(true_gamma2_pairconvert_vtx) == 0:\n",
    "    true_gamma2_pairconvert_vtx = None\n"
   ]
  },
  {
   "cell_type": "code",
   "execution_count": null,
   "metadata": {},
   "outputs": [],
   "source": []
  },
  {
   "cell_type": "code",
   "execution_count": 5,
   "metadata": {},
   "outputs": [
    {
     "name": "stdout",
     "output_type": "stream",
     "text": [
      "name = Tcluster_spacepoints_with_charge, points.shape = (586, 3)\n",
      "name = real_gamma1_downsampled_spacepoints, points.shape = (96, 4)\n",
      "name = real_gamma2_downsampled_spacepoints, points.shape = (0, 4)\n",
      "name = real_other_particles_downsampled_spacepoints, points.shape = (2, 4)\n",
      "name = real_cosmic_downsampled_spacepoints, points.shape = (488, 4)\n",
      "name = reco_nu_vtx, points.shape = (3,)\n",
      "name = true_nu_vtx, points.shape = (3,)\n",
      "name = true_gamma1_pairconvert_vtx, points.shape = (3,)\n",
      "name = true_gamma2_pairconvert_vtx, points.shape = ()\n"
     ]
    }
   ],
   "source": [
    "from helpers.plotting_3d import plot_event\n",
    "\n",
    "# event that we failed before\n",
    "event_index = 61\n",
    "\n",
    "event_index = 2\n",
    "\n",
    "#event_index = 10084\n",
    "\n",
    "points_dic = {\n",
    "    \"Tcluster_spacepoints_with_charge\": (downsampled_Tcluster_spacepoints_with_charge[event_index][:, :3], downsampled_Tcluster_spacepoints_with_charge[event_index][:, 3], \"jet\", 2, True),\n",
    "    \"real_gamma1_downsampled_spacepoints\": (real_gamma1_downsampled_spacepoints[event_index], \"green\", None, 2, True),\n",
    "    \"real_gamma2_downsampled_spacepoints\": (real_gamma2_downsampled_spacepoints[event_index], \"lightgreen\", None, 2, True),\n",
    "    \"real_other_particles_downsampled_spacepoints\": (real_other_particles_downsampled_spacepoints[event_index], \"brown\", None, 2, True),\n",
    "    \"real_cosmic_downsampled_spacepoints\": (real_cosmic_downsampled_spacepoints[event_index], \"blue\", None, 2, True),\n",
    "    \"reco_nu_vtx\": (reco_nu_vtx[event_index], \"orange\", None, 10, \"legendonly\"),\n",
    "    \"true_nu_vtx\": (true_nu_vtx[event_index], \"red\", None, 10, \"legendonly\"),\n",
    "    \"true_gamma1_pairconvert_vtx\": (true_gamma1_pairconvert_vtx[event_index], \"green\", None, 10, True),\n",
    "    \"true_gamma2_pairconvert_vtx\": (true_gamma2_pairconvert_vtx[event_index], \"lightgreen\", None, 10, True),\n",
    "}\n",
    "\n",
    "plot_event(event_index, points_dic)\n"
   ]
  },
  {
   "cell_type": "code",
   "execution_count": null,
   "metadata": {},
   "outputs": [],
   "source": []
  }
 ],
 "metadata": {
  "kernelspec": {
   "display_name": "venv",
   "language": "python",
   "name": "python3"
  },
  "language_info": {
   "codemirror_mode": {
    "name": "ipython",
    "version": 3
   },
   "file_extension": ".py",
   "mimetype": "text/x-python",
   "name": "python",
   "nbconvert_exporter": "python",
   "pygments_lexer": "ipython3",
   "version": "3.12.3"
  }
 },
 "nbformat": 4,
 "nbformat_minor": 2
}
