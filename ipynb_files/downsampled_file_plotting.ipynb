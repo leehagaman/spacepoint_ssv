{
 "cells": [
  {
   "cell_type": "code",
   "execution_count": 1,
   "metadata": {},
   "outputs": [],
   "source": [
    "import uproot\n",
    "import numpy as np\n",
    "import matplotlib.pyplot as plt\n",
    "import pandas as pd\n",
    "import pickle\n",
    "\n",
    "import os\n",
    "import sys\n",
    "sys.path.append(os.path.abspath(\"..\"))\n"
   ]
  },
  {
   "cell_type": "code",
   "execution_count": 2,
   "metadata": {},
   "outputs": [],
   "source": [
    "with open(\"../intermediate_files/more_points.pkl\", \"rb\") as f:\n",
    "    outputs = pickle.load(f)\n",
    "\n",
    "true_gamma_info_df = outputs[0]\n",
    "real_nu_reco_nu_downsampled_spacepoints = outputs[1]\n",
    "real_nu_reco_cosmic_downsampled_spacepoints = outputs[2]\n",
    "real_cosmic_reco_nu_downsampled_spacepoints = outputs[3]\n",
    "real_cosmic_reco_cosmic_downsampled_spacepoints = outputs[4]\n",
    "real_gamma1_downsampled_spacepoints = outputs[5]\n",
    "real_gamma2_downsampled_spacepoints = outputs[6]\n",
    "real_other_particles_downsampled_spacepoints = outputs[7]\n",
    "real_cosmic_downsampled_spacepoints = outputs[8]\n"
   ]
  },
  {
   "cell_type": "code",
   "execution_count": 3,
   "metadata": {},
   "outputs": [],
   "source": [
    "reco_nu_vtx = []\n",
    "true_nu_vtx = []\n",
    "true_gamma1_pairconvert_vtx = []\n",
    "true_gamma2_pairconvert_vtx = []\n",
    "\n",
    "for event_i in range(len(true_gamma_info_df)):\n",
    "\n",
    "    reco_nu_vtx.append([true_gamma_info_df[\"reco_nu_vtx_x\"][event_i], true_gamma_info_df[\"reco_nu_vtx_y\"][event_i], true_gamma_info_df[\"reco_nu_vtx_z\"][event_i]])\n",
    "    true_nu_vtx.append([true_gamma_info_df[\"true_nu_vtx_x\"][event_i], true_gamma_info_df[\"true_nu_vtx_y\"][event_i], true_gamma_info_df[\"true_nu_vtx_z\"][event_i]])\n",
    "   \n",
    "    if len(true_gamma_info_df[\"true_gamma_pairconversion_xs\"][event_i]) > 0:\n",
    "        true_gamma1_pairconvert_vtx.append([true_gamma_info_df[\"true_gamma_pairconversion_xs\"][event_i][0], true_gamma_info_df[\"true_gamma_pairconversion_ys\"][event_i][0], true_gamma_info_df[\"true_gamma_pairconversion_zs\"][event_i][0]])\n",
    "    else:\n",
    "        true_gamma1_pairconvert_vtx.append(None)\n",
    "    if len(true_gamma_info_df[\"true_gamma_pairconversion_xs\"][event_i]) > 1:\n",
    "        true_gamma2_pairconvert_vtx.append([true_gamma_info_df[\"true_gamma_pairconversion_xs\"][event_i][1], true_gamma_info_df[\"true_gamma_pairconversion_ys\"][event_i][1], true_gamma_info_df[\"true_gamma_pairconversion_zs\"][event_i][1]])\n",
    "    else:\n",
    "        true_gamma2_pairconvert_vtx.append(None)\n",
    "\n",
    "\n",
    "if len(true_gamma1_pairconvert_vtx) == 0:\n",
    "    true_gamma1_pairconvert_vtx = None\n",
    "if len(true_gamma2_pairconvert_vtx) == 0:\n",
    "    true_gamma2_pairconvert_vtx = None\n"
   ]
  },
  {
   "cell_type": "code",
   "execution_count": 4,
   "metadata": {},
   "outputs": [],
   "source": [
    "from helpers.plotting_3d import plot_event\n",
    "\n",
    "# event that we failed before\n",
    "event_index = 61\n",
    "\n",
    "#event_index = 2\n",
    "\n",
    "plot_event(event_index, real_gamma1_downsampled_spacepoints=real_gamma1_downsampled_spacepoints,\n",
    "                        real_gamma2_downsampled_spacepoints=real_gamma2_downsampled_spacepoints,\n",
    "                        real_other_particles_downsampled_spacepoints=real_other_particles_downsampled_spacepoints,\n",
    "                        real_cosmic_downsampled_spacepoints=real_cosmic_downsampled_spacepoints,\n",
    "                        reco_nu_vtx=reco_nu_vtx, true_nu_vtx=true_nu_vtx,\n",
    "                        true_gamma1_pairconvert_vtx=true_gamma1_pairconvert_vtx,\n",
    "                        true_gamma2_pairconvert_vtx=true_gamma2_pairconvert_vtx)\n",
    "\n"
   ]
  },
  {
   "cell_type": "code",
   "execution_count": null,
   "metadata": {},
   "outputs": [],
   "source": []
  }
 ],
 "metadata": {
  "kernelspec": {
   "display_name": "venv",
   "language": "python",
   "name": "python3"
  },
  "language_info": {
   "codemirror_mode": {
    "name": "ipython",
    "version": 3
   },
   "file_extension": ".py",
   "mimetype": "text/x-python",
   "name": "python",
   "nbconvert_exporter": "python",
   "pygments_lexer": "ipython3",
   "version": "3.12.3"
  }
 },
 "nbformat": 4,
 "nbformat_minor": 2
}
